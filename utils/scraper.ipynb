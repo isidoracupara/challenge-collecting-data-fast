{
 "cells": [
  {
   "cell_type": "code",
   "execution_count": 5,
   "metadata": {},
   "outputs": [],
   "source": [
    "import functools\n",
    "import itertools\n",
    "import requests\n",
    "import pandas as pd\n",
    "from tqdm.contrib.concurrent import thread_map"
   ]
  },
  {
   "cell_type": "code",
   "execution_count": 6,
   "metadata": {},
   "outputs": [],
   "source": [
    "def get_price_range(minPrice, maxPrice, session):\n",
    "    api_url = f\"https://www.immoweb.be/en/search-results/house-and-apartment/for-sale?countries=BE&page=1&orderBy=newest&isALifeAnnuitySale=false&minPrice={minPrice}&maxPrice={maxPrice}\"\n",
    "    num_pages = session.get(api_url).json()['marketingCount'] // 30 + 1\n",
    "    if num_pages > 330:\n",
    "        mid_price = (minPrice + maxPrice) // 2 \n",
    "        return get_price_range(minPrice, mid_price, session).union(get_price_range(mid_price, maxPrice, session))\n",
    "    return get_ids_for_category(minPrice, maxPrice, num_pages, session)\n",
    "\n",
    "def get_ids_from_page(i, minPrice, maxPrice, session):\n",
    "    api_url = f\"https://www.immoweb.be/en/search-results/house-and-apartment/for-sale?countries=BE&page={i}&orderBy=newest&isALifeAnnuitySale=false&minPrice={minPrice}&maxPrice={maxPrice}\"\n",
    "    return set(result['id'] for result in session.get(api_url).json()['results'])\n",
    "\n",
    "def get_ids_for_category(minPrice, maxPrice, num_pages, session):\n",
    "    return set(itertools.chain.from_iterable(thread_map(functools.partial(get_ids_from_page, minPrice=minPrice, maxPrice=maxPrice, session=session), range(1, num_pages+ 1), max_workers=64)))\n",
    "\n",
    "def get_property(id, session):\n",
    "    property_url = f\"http://www.immoweb.be/en/classified/{id}\"\n",
    "    try:\n",
    "        tables = pd.read_html(session.get(property_url, timeout=5).text)\n",
    "        df = pd.concat(tables).set_index(0).T\n",
    "        df['id'] = id\n",
    "        df = df.set_index('id')\n",
    "        return df.loc[:, ~df.columns.duplicated()]\n",
    "    except:\n",
    "        return None\n",
    "\n",
    "def get_properties(ids, session, max_workers=64):\n",
    "    return pd.concat(thread_map(functools.partial(get_property, session=session), ids, max_workers=max_workers))"
   ]
  },
  {
   "cell_type": "code",
   "execution_count": 7,
   "metadata": {},
   "outputs": [
    {
     "name": "stderr",
     "output_type": "stream",
     "text": [
      "100%|██████████| 205/205 [00:03<00:00, 58.63it/s]\n",
      "100%|██████████| 220/220 [00:03<00:00, 57.35it/s]\n",
      "100%|██████████| 246/246 [00:04<00:00, 49.90it/s] \n",
      "100%|██████████| 306/306 [00:08<00:00, 37.33it/s]\n",
      "100%|██████████| 306/306 [00:06<00:00, 47.24it/s] \n",
      "100%|██████████| 270/270 [00:05<00:00, 48.14it/s]\n",
      "100%|██████████| 207/207 [00:03<00:00, 53.60it/s]\n",
      "100%|██████████| 272/272 [00:05<00:00, 46.98it/s] \n",
      "100%|██████████| 268/268 [00:05<00:00, 50.81it/s]\n",
      "100%|██████████| 253/253 [00:04<00:00, 56.62it/s]\n",
      "100%|██████████| 103/103 [00:02<00:00, 41.52it/s]\n",
      "100%|██████████| 61/61 [00:04<00:00, 14.49it/s]\n",
      "100%|██████████| 46/46 [00:00<00:00, 46.79it/s]\n",
      "100%|██████████| 65313/65313 [17:22<00:00, 62.67it/s]  \n"
     ]
    }
   ],
   "source": [
    "with requests.Session() as session:\n",
    "    ids = get_price_range(0, 10**7, session)\n",
    "    properties = get_properties(ids, session)"
   ]
  },
  {
   "cell_type": "code",
   "execution_count": 8,
   "metadata": {},
   "outputs": [],
   "source": [
    "properties.to_csv('properties.csv')"
   ]
  },
  {
   "cell_type": "code",
   "execution_count": null,
   "metadata": {},
   "outputs": [],
   "source": []
  }
 ],
 "metadata": {
  "kernelspec": {
   "display_name": "Python 3.10.6 64-bit",
   "language": "python",
   "name": "python3"
  },
  "language_info": {
   "codemirror_mode": {
    "name": "ipython",
    "version": 3
   },
   "file_extension": ".py",
   "mimetype": "text/x-python",
   "name": "python",
   "nbconvert_exporter": "python",
   "pygments_lexer": "ipython3",
   "version": "3.10.6"
  },
  "orig_nbformat": 4,
  "vscode": {
   "interpreter": {
    "hash": "b0fa6594d8f4cbf19f97940f81e996739fb7646882a419484c72d19e05852a7e"
   }
  }
 },
 "nbformat": 4,
 "nbformat_minor": 2
}
